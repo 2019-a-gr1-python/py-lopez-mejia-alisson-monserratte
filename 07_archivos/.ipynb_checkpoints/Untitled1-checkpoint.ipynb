{
 "cells": [
  {
   "cell_type": "markdown",
   "metadata": {},
   "source": [
    "# Clases"
   ]
  },
  {
   "cell_type": "code",
   "execution_count": 4,
   "metadata": {},
   "outputs": [],
   "source": [
    "class Nada: \n",
    "    pass "
   ]
  },
  {
   "cell_type": "code",
   "execution_count": 5,
   "metadata": {},
   "outputs": [],
   "source": [
    "una_nada = Nada()"
   ]
  },
  {
   "cell_type": "code",
   "execution_count": 114,
   "metadata": {},
   "outputs": [],
   "source": [
    "class Auto:\n",
    "    color = 'negro' #propiedad\n",
    "    placa = ''\n",
    "    __numero_calculo = 1024\n",
    "    \n",
    "    def __init__(self,placa): #Constructor el self es como el this pero no esta disponible automaticamente \n",
    "        print('Estamos inicializando el Auto')\n",
    "        self.placa = placa\n",
    "        \n",
    "    \n",
    "    \n",
    "    \n",
    "    def calcular_impuesto(self,anio): # Metodo publico\n",
    "        total_a_pagar =self._calculo(anio)\n",
    "        print(f'Su impuesto a pagaer es: {total_a_pagar}')\n",
    "        return total_a_pagar\n",
    "        \n",
    "    \n",
    "    def _calculo(self,anio):  #Metodo privado \n",
    "        return(anio /2) + 1024\n",
    "        \n",
    "\n",
    "\n",
    "        "
   ]
  },
  {
   "cell_type": "code",
   "execution_count": 115,
   "metadata": {},
   "outputs": [
    {
     "name": "stdout",
     "output_type": "stream",
     "text": [
      "Estamos inicializando el Auto\n"
     ]
    }
   ],
   "source": [
    "coche = Auto('PIK-1234')"
   ]
  },
  {
   "cell_type": "code",
   "execution_count": 116,
   "metadata": {},
   "outputs": [
    {
     "data": {
      "text/plain": [
       "'negro'"
      ]
     },
     "execution_count": 116,
     "metadata": {},
     "output_type": "execute_result"
    }
   ],
   "source": [
    "coche.color"
   ]
  },
  {
   "cell_type": "code",
   "execution_count": 117,
   "metadata": {},
   "outputs": [
    {
     "data": {
      "text/plain": [
       "'PIK-1234'"
      ]
     },
     "execution_count": 117,
     "metadata": {},
     "output_type": "execute_result"
    }
   ],
   "source": [
    "coche.placa"
   ]
  },
  {
   "cell_type": "code",
   "execution_count": 118,
   "metadata": {},
   "outputs": [
    {
     "ename": "AttributeError",
     "evalue": "'Auto' object has no attribute '__calculo'",
     "output_type": "error",
     "traceback": [
      "\u001b[0;31m---------------------------------------------------------------------------\u001b[0m",
      "\u001b[0;31mAttributeError\u001b[0m                            Traceback (most recent call last)",
      "\u001b[0;32m<ipython-input-118-4fd83b8230d7>\u001b[0m in \u001b[0;36m<module>\u001b[0;34m\u001b[0m\n\u001b[0;32m----> 1\u001b[0;31m \u001b[0mcoche\u001b[0m\u001b[0;34m.\u001b[0m\u001b[0m__calculo\u001b[0m\u001b[0;34m(\u001b[0m\u001b[0;34m)\u001b[0m\u001b[0;34m\u001b[0m\u001b[0;34m\u001b[0m\u001b[0m\n\u001b[0m",
      "\u001b[0;31mAttributeError\u001b[0m: 'Auto' object has no attribute '__calculo'"
     ]
    }
   ],
   "source": [
    "coche.__calculo()"
   ]
  },
  {
   "cell_type": "code",
   "execution_count": 119,
   "metadata": {},
   "outputs": [
    {
     "name": "stdout",
     "output_type": "stream",
     "text": [
      "Su impuesto a pagaer es: 1974.0\n"
     ]
    },
    {
     "data": {
      "text/plain": [
       "1974.0"
      ]
     },
     "execution_count": 119,
     "metadata": {},
     "output_type": "execute_result"
    }
   ],
   "source": [
    "coche.calcular_impuesto(1900)"
   ]
  },
  {
   "cell_type": "code",
   "execution_count": 120,
   "metadata": {},
   "outputs": [],
   "source": [
    "coche._Auto__numero_calculo = 12 "
   ]
  },
  {
   "cell_type": "code",
   "execution_count": 142,
   "metadata": {},
   "outputs": [],
   "source": [
    "class BMW(Auto):\n",
    "    # hp_motor = 500 \n",
    "    \n",
    "    # Para hacer una variable opcional solo le inicializamos  self.hp_motor = hp_motor\n",
    "    \n",
    "    def __init__(self,placa,hp_motor = 200):\n",
    "        super().__init__(placa)\n",
    "        self.hp_motor =hp_motor\n",
    "    \n",
    "    def __str__(self):\n",
    "        #print(self.calcular_impuesto(2333))\n",
    "        return f'Color: {self.color} {self.placa} {self.hp_motor}' "
   ]
  },
  {
   "cell_type": "code",
   "execution_count": 143,
   "metadata": {},
   "outputs": [
    {
     "name": "stdout",
     "output_type": "stream",
     "text": [
      "Su impuesto a pagaer es: 117185.5\n"
     ]
    },
    {
     "data": {
      "text/plain": [
       "117185.5"
      ]
     },
     "execution_count": 143,
     "metadata": {},
     "output_type": "execute_result"
    }
   ],
   "source": [
    "nuevo_bmw.calcular_impuesto(232323)"
   ]
  },
  {
   "cell_type": "code",
   "execution_count": 144,
   "metadata": {},
   "outputs": [
    {
     "name": "stdout",
     "output_type": "stream",
     "text": [
      "Estamos inicializando el Auto\n"
     ]
    }
   ],
   "source": [
    "nuevo_bmw = BMW('PHC-2323')"
   ]
  },
  {
   "cell_type": "code",
   "execution_count": 145,
   "metadata": {},
   "outputs": [
    {
     "name": "stdout",
     "output_type": "stream",
     "text": [
      "Color: negro PHC-2323 200\n"
     ]
    }
   ],
   "source": [
    "print(nuevo_bmw)"
   ]
  },
  {
   "cell_type": "code",
   "execution_count": null,
   "metadata": {},
   "outputs": [],
   "source": []
  },
  {
   "cell_type": "code",
   "execution_count": null,
   "metadata": {},
   "outputs": [],
   "source": []
  },
  {
   "cell_type": "code",
   "execution_count": null,
   "metadata": {},
   "outputs": [],
   "source": []
  }
 ],
 "metadata": {
  "kernelspec": {
   "display_name": "Python 3",
   "language": "python",
   "name": "python3"
  },
  "language_info": {
   "codemirror_mode": {
    "name": "ipython",
    "version": 3
   },
   "file_extension": ".py",
   "mimetype": "text/x-python",
   "name": "python",
   "nbconvert_exporter": "python",
   "pygments_lexer": "ipython3",
   "version": "3.7.1"
  }
 },
 "nbformat": 4,
 "nbformat_minor": 2
}
